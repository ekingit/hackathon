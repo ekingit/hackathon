{
  "nbformat": 4,
  "nbformat_minor": 0,
  "metadata": {
    "colab": {
      "provenance": [],
      "authorship_tag": "ABX9TyNIJ2+pE2HCN5sSN2/STr28",
      "include_colab_link": true
    },
    "kernelspec": {
      "name": "python3",
      "display_name": "Python 3"
    },
    "language_info": {
      "name": "python"
    }
  },
  "cells": [
    {
      "cell_type": "markdown",
      "metadata": {
        "id": "view-in-github",
        "colab_type": "text"
      },
      "source": [
        "<a href=\"https://colab.research.google.com/github/ekingit/hackathon/blob/main/presentation.ipynb\" target=\"_parent\"><img src=\"https://colab.research.google.com/assets/colab-badge.svg\" alt=\"Open In Colab\"/></a>"
      ]
    },
    {
      "cell_type": "markdown",
      "source": [
        "# Solution Description"
      ],
      "metadata": {
        "id": "DzC3_UbFZAWX"
      }
    },
    {
      "cell_type": "markdown",
      "source": [
        "**Model:** A Gated Recurrent Unit (GRU) neural network architecture is employed for time series forecasting. The model is designed to predict the subsequent data point in the sequence.\n",
        "\n",
        "**Training:** 4-days data is fed into the model. The model uses predicted values autoregressively to predict the next day - 24h.\n",
        "\n",
        "**Loss** = mseloss(5-days real data, 5-days predictions)"
      ],
      "metadata": {
        "id": "yoSA4BAMZDkG"
      }
    },
    {
      "cell_type": "markdown",
      "source": [
        "This lets the model to capture dynamical features. Keeping dynamical distribution intact, it shuffles randomly other statistical properties.\n",
        "\n"
      ],
      "metadata": {
        "id": "HyQimrZ6a3CW"
      }
    }
  ]
}