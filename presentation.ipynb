{
  "nbformat": 4,
  "nbformat_minor": 0,
  "metadata": {
    "colab": {
      "provenance": [],
      "authorship_tag": "ABX9TyOa7Cet4inFo88IOkI7lEzz",
      "include_colab_link": true
    },
    "kernelspec": {
      "name": "python3",
      "display_name": "Python 3"
    },
    "language_info": {
      "name": "python"
    }
  },
  "cells": [
    {
      "cell_type": "markdown",
      "metadata": {
        "id": "view-in-github",
        "colab_type": "text"
      },
      "source": [
        "<a href=\"https://colab.research.google.com/github/ekingit/hackathon/blob/main/presentation.ipynb\" target=\"_parent\"><img src=\"https://colab.research.google.com/assets/colab-badge.svg\" alt=\"Open In Colab\"/></a>"
      ]
    },
    {
      "cell_type": "markdown",
      "source": [
        "# Problem Description"
      ],
      "metadata": {
        "id": "jr2dlYWigX-u"
      }
    },
    {
      "cell_type": "markdown",
      "source": [
        "**Input:** A statistical distribution from a time series representing 4125 individuals.\n",
        "\n",
        "**Domain Dimension:** 8760\n",
        "\n",
        "**Task:** Generate synthetic data while preserving crucial statistical properties.\n",
        "\n",
        "**Question:** Which statistical values are essential to maintain?"
      ],
      "metadata": {
        "id": "DdVYipDwgbbj"
      }
    },
    {
      "cell_type": "markdown",
      "source": [
        "# Solution Description"
      ],
      "metadata": {
        "id": "DzC3_UbFZAWX"
      }
    },
    {
      "cell_type": "markdown",
      "source": [
        "**Model:** A Gated Recurrent Unit (GRU) neural network architecture is employed for time series forecasting. The model is designed to predict the subsequent data point in the sequence.\n",
        "\n",
        "**Assumptions:** $p(X) = \\prod_t p(X_t : X_{t-1},...X_{0})$ statisstical distribution of $X_t$ depends on previous values.\n",
        "\n",
        "**Training:** The model is trained on 4 days of data. It then uses the predicted values autoregressively to forecast the next 24 hours.\n",
        "\n",
        "**Loss:** The loss function used is the mean squared error (MSE) between the 5-day real data and the 5-day predictions.\n",
        "\n",
        "**Functionality:** This approach allows the model to capture dynamical features. By keeping the dynamical distribution intact, it randomly shuffles other statistical properties."
      ],
      "metadata": {
        "id": "yoSA4BAMZDkG"
      }
    },
    {
      "cell_type": "code",
      "source": [],
      "metadata": {
        "id": "CozmumhIjssm"
      },
      "execution_count": null,
      "outputs": []
    }
  ]
}